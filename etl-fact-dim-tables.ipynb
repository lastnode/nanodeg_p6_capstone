{
 "cells": [
  {
   "cell_type": "markdown",
   "id": "annual-framework",
   "metadata": {},
   "source": [
    "# Data Quality Checks #\n",
    "\n",
    "This notebook loads the Chess.com and Lichess staging tables from .parquet files and performs these final minor transformations on them:\n",
    "\n",
    "1. Removing the extra `rated` column in the the Chess.com staging table before we union the tables.\n",
    "2. Creating an `id` column by hashing the `game_end_time`, `white_username` and `black_username` columns.\n",
    "3. We also create the the following `*_id` columns using Spark SQL's [SHA1 hash function](https://spark.apache.org/docs/2.3.0/api/sql/index.html#sha1):\n",
    "\n",
    "* `game_id` hashed from `game_end_time` + `white_username` + `black_username`\n",
    "* `white_id` hashed from `white_username`\n",
    "* `black_id` hashed from `black_username`\n",
    "* `opening_id` hashed from `opening`\n",
    "* `time_class_id` hashed from `time_class`\n",
    "* `platform_id` hased from `platform`\n",
    "\n",
    "4. We use PySpark's [dropDuplicates](https://spark.apache.org/docs/latest/api/python/reference/api/pyspark.sql.DataFrame.dropDuplicates.html) function to remove rows that have the same (SHA1 hashed) `game_id` column.\n",
    "\n",
    "Currently this removes `50250` rows from the final Chess.com + Lichess combined `games` table dataframe.\n",
    "\n",
    "5. We use PySpark's `.cast()` function to set the correct data types for the date and rating columns.\n",
    "\n",
    "Finally, we write the cleaned fact and dim tables to a new set of `.parquet` files so these tables can be loaded by our final `analytics.ipynb` notebook."
   ]
  },
  {
   "cell_type": "code",
   "execution_count": 123,
   "id": "later-return",
   "metadata": {},
   "outputs": [],
   "source": [
    "from pyspark import SparkContext, SparkConf\n",
    "from pyspark.sql import SparkSession\n",
    "import pyspark.sql.functions as F\n",
    "from pyspark import SQLContext\n",
    "import pandas as pd\n",
    "import yaml, os"
   ]
  },
  {
   "cell_type": "code",
   "execution_count": 124,
   "id": "seventh-links",
   "metadata": {},
   "outputs": [],
   "source": [
    "with open(r'config/dl-chessdotcom.yaml') as file:\n",
    "    config = yaml.load(file,Loader=yaml.SafeLoader)\n",
    "\n",
    "os.environ['AWS_ACCESS_KEY_ID']=config['aws_access_key_id']\n",
    "os.environ['AWS_SECRET_ACCESS_KEY']=config['aws_secret_key_id']"
   ]
  },
  {
   "cell_type": "code",
   "execution_count": 125,
   "id": "organizational-burns",
   "metadata": {},
   "outputs": [],
   "source": [
    "spark = SparkSession \\\n",
    "    .builder \\\n",
    "    .appName(\"Lichess and Chess.com Staging -> Fact tables\") \\\n",
    "    .getOrCreate()\n",
    "\n",
    "spark.sparkContext._jsc.hadoopConfiguration().set(\"fs.s3a.aws.credentials.provider\",\"org.apache.hadoop.fs.s3a.SimpleAWSCredentialsProvider\")\n",
    "spark.sparkContext._jsc.hadoopConfiguration().set(\"fs.s3a.access.key\",config['aws_access_key_id'])\n",
    "spark.sparkContext._jsc.hadoopConfiguration().set(\"fs.s3a.secret.key\",config['aws_secret_key_id'])"
   ]
  },
  {
   "cell_type": "code",
   "execution_count": 126,
   "id": "premium-copyright",
   "metadata": {},
   "outputs": [],
   "source": [
    "# Set which outpath path we need - either local or s3.\n",
    "# output_data = config['output_data_path_local']\n",
    "output_data = config['output_data_path_s3']"
   ]
  },
  {
   "cell_type": "markdown",
   "id": "paperback-intranet",
   "metadata": {},
   "source": [
    "## Load Chess.com Staging Table"
   ]
  },
  {
   "cell_type": "code",
   "execution_count": 127,
   "id": "laden-lottery",
   "metadata": {},
   "outputs": [],
   "source": [
    "df_chessdotcom = spark.read.parquet(\"s3a://\" + output_data + \"staging/chessdotcom/games/\")  "
   ]
  },
  {
   "cell_type": "markdown",
   "id": "damaged-agriculture",
   "metadata": {},
   "source": [
    "### Remove extra `rating` column"
   ]
  },
  {
   "cell_type": "markdown",
   "id": "prepared-minnesota",
   "metadata": {},
   "source": [
    "There is an extra `rating` column in the Chess.com table, that we need to remove in order to union it correctly with the Lichess table."
   ]
  },
  {
   "cell_type": "code",
   "execution_count": 128,
   "id": "conservative-lexington",
   "metadata": {},
   "outputs": [],
   "source": [
    "df_chessdotcom = df_chessdotcom.drop(\"rated\") #Remove extra column in Chess.com staging table.\n",
    "\n",
    "#df_chessdotcom.printSchema()"
   ]
  },
  {
   "cell_type": "code",
   "execution_count": null,
   "id": "domestic-lyric",
   "metadata": {},
   "outputs": [],
   "source": [
    "df_chessdotcom.limit(10).toPandas()"
   ]
  },
  {
   "cell_type": "markdown",
   "id": "deluxe-biotechnology",
   "metadata": {},
   "source": [
    "## Load Lichess Staging Table"
   ]
  },
  {
   "cell_type": "code",
   "execution_count": null,
   "id": "accessible-evans",
   "metadata": {},
   "outputs": [],
   "source": [
    "df_lichess = spark.read.parquet(\"s3a://\" + output_data + \"staging/lichess/games/\")"
   ]
  },
  {
   "cell_type": "code",
   "execution_count": null,
   "id": "responsible-malawi",
   "metadata": {},
   "outputs": [],
   "source": [
    "#df_lichess.printSchema()"
   ]
  },
  {
   "cell_type": "markdown",
   "id": "friendly-laptop",
   "metadata": {},
   "source": []
  },
  {
   "cell_type": "markdown",
   "id": "freelance-recall",
   "metadata": {},
   "source": [
    "## Combine Chess.com + Lichess `games` Table Dataframes"
   ]
  },
  {
   "cell_type": "code",
   "execution_count": null,
   "id": "greater-profile",
   "metadata": {},
   "outputs": [],
   "source": [
    "df_merged = df_chessdotcom.union(df_lichess)"
   ]
  },
  {
   "cell_type": "code",
   "execution_count": null,
   "id": "animated-means",
   "metadata": {},
   "outputs": [],
   "source": [
    "#df_merged.count()"
   ]
  },
  {
   "cell_type": "markdown",
   "id": "secondary-alabama",
   "metadata": {},
   "source": [
    "### Create `game_id` column"
   ]
  },
  {
   "cell_type": "code",
   "execution_count": null,
   "id": "strong-messaging",
   "metadata": {},
   "outputs": [],
   "source": [
    "df_merged_with_game_id = df_merged.withColumn(\"game_id\", F.sha1(F.concat(F.col(\"game_end_time\"),F.col(\"white_username\"),F.col(\"black_username\"))))"
   ]
  },
  {
   "cell_type": "markdown",
   "id": "nutritional-stereo",
   "metadata": {},
   "source": [
    "### Create `white_id` and `black_id` columns"
   ]
  },
  {
   "cell_type": "code",
   "execution_count": null,
   "id": "destroyed-brown",
   "metadata": {},
   "outputs": [],
   "source": [
    "df_merged_with_white_id = df_merged_with_game_id.withColumn(\"white_id\", F.sha1(F.col(\"white_username\")))"
   ]
  },
  {
   "cell_type": "code",
   "execution_count": null,
   "id": "hungry-threat",
   "metadata": {},
   "outputs": [],
   "source": [
    "df_merged_with_black_id = df_merged_with_white_id.withColumn(\"black_id\", F.sha1(F.col(\"black_username\")))"
   ]
  },
  {
   "cell_type": "markdown",
   "id": "changing-probe",
   "metadata": {},
   "source": [
    "### Create `opening_id` column"
   ]
  },
  {
   "cell_type": "code",
   "execution_count": null,
   "id": "usual-election",
   "metadata": {},
   "outputs": [],
   "source": [
    "df_merged_with_opening_id = df_merged_with_black_id.withColumn(\"opening_id\", F.sha1(F.col(\"opening\")))"
   ]
  },
  {
   "cell_type": "markdown",
   "id": "joint-heart",
   "metadata": {},
   "source": [
    "### Create `time_class_id` column"
   ]
  },
  {
   "cell_type": "code",
   "execution_count": null,
   "id": "musical-binary",
   "metadata": {},
   "outputs": [],
   "source": [
    "df_merged_with_tc_id = df_merged_with_opening_id.withColumn(\"time_class_id\", F.sha1(F.col(\"time_class\")))"
   ]
  },
  {
   "cell_type": "markdown",
   "id": "mexican-rainbow",
   "metadata": {},
   "source": [
    "### Create `platform_id` column"
   ]
  },
  {
   "cell_type": "code",
   "execution_count": null,
   "id": "finite-peeing",
   "metadata": {},
   "outputs": [],
   "source": [
    "df_merged_with_plaform_id = df_merged_with_tc_id.withColumn(\"platform_id\", F.sha1(F.col(\"platform\")))"
   ]
  },
  {
   "cell_type": "markdown",
   "id": "roman-cardiff",
   "metadata": {},
   "source": [
    "### Create`year`column"
   ]
  },
  {
   "cell_type": "code",
   "execution_count": null,
   "id": "incorrect-bahamas",
   "metadata": {},
   "outputs": [],
   "source": [
    "df_merged_with_year = df_merged_with_plaform_id.withColumn(\"year\", F.year(F.col('game_end_date')))"
   ]
  },
  {
   "cell_type": "code",
   "execution_count": null,
   "id": "three-consideration",
   "metadata": {},
   "outputs": [],
   "source": [
    "df_merged_with_year.limit(10).toPandas()"
   ]
  },
  {
   "cell_type": "code",
   "execution_count": null,
   "id": "seven-astronomy",
   "metadata": {},
   "outputs": [],
   "source": [
    "df_merged_with_year.count()"
   ]
  },
  {
   "cell_type": "markdown",
   "id": "naked-practice",
   "metadata": {},
   "source": [
    "## Check Merged `Games` Dim Table for Dupes of `id` Column and Drop Them"
   ]
  },
  {
   "cell_type": "code",
   "execution_count": null,
   "id": "demographic-clock",
   "metadata": {},
   "outputs": [],
   "source": [
    "df_dupes_dropped = df_merged_with_year.dropDuplicates(['game_id'])"
   ]
  },
  {
   "cell_type": "code",
   "execution_count": null,
   "id": "broken-batch",
   "metadata": {},
   "outputs": [],
   "source": [
    "df_dupes_dropped.count()"
   ]
  },
  {
   "cell_type": "markdown",
   "id": "difficult-recruitment",
   "metadata": {},
   "source": [
    "## Set Correct Data Types for Date and Rating Columns"
   ]
  },
  {
   "cell_type": "code",
   "execution_count": null,
   "id": "optional-nowhere",
   "metadata": {},
   "outputs": [],
   "source": [
    "df_dupes_dropped = df_dupes_dropped.withColumn(\"year\",df_dupes_dropped.year.cast('int'))\n",
    "df_dupes_dropped = df_dupes_dropped.withColumn(\"game_end_time\",df_dupes_dropped.game_end_time.cast('timestamp'))\n",
    "df_dupes_dropped = df_dupes_dropped.withColumn(\"game_end_date\",df_dupes_dropped.game_end_date.cast('timestamp'))\n",
    "df_dupes_dropped = df_dupes_dropped.withColumn(\"white_rating\",df_dupes_dropped.white_rating.cast('int'))\n",
    "df_dupes_dropped = df_dupes_dropped.withColumn(\"black_rating\",df_dupes_dropped.black_rating.cast('int'))\n"
   ]
  },
  {
   "cell_type": "markdown",
   "id": "danish-status",
   "metadata": {},
   "source": [
    "### Create and Write Cleaned `openings` Dim Table"
   ]
  },
  {
   "cell_type": "code",
   "execution_count": null,
   "id": "occupational-drawing",
   "metadata": {},
   "outputs": [],
   "source": [
    "openings_dim_table = df_dupes_dropped.select(F.col(\"opening_id\").alias(\"id\"),\"opening\").distinct()\n"
   ]
  },
  {
   "cell_type": "code",
   "execution_count": null,
   "id": "respected-tuition",
   "metadata": {},
   "outputs": [],
   "source": [
    "#openings_dim_table.limit(10).toPandas()"
   ]
  },
  {
   "cell_type": "code",
   "execution_count": null,
   "id": "statistical-parker",
   "metadata": {},
   "outputs": [],
   "source": [
    "openings_dim_table.write.mode('append').parquet(\"s3a://\" + output_data + \"/dim/openings\")"
   ]
  },
  {
   "cell_type": "markdown",
   "id": "casual-finding",
   "metadata": {},
   "source": [
    "### Create and Write Cleaned `players` Dim Table"
   ]
  },
  {
   "cell_type": "code",
   "execution_count": null,
   "id": "hawaiian-roman",
   "metadata": {},
   "outputs": [],
   "source": [
    "white_players_table = df_dupes_dropped.select(\"white_id\",\"white_username\").distinct()"
   ]
  },
  {
   "cell_type": "code",
   "execution_count": null,
   "id": "blond-lambda",
   "metadata": {},
   "outputs": [],
   "source": [
    "black_players_table = df_dupes_dropped.select(\"black_id\",\"black_username\").distinct()"
   ]
  },
  {
   "cell_type": "code",
   "execution_count": null,
   "id": "macro-hammer",
   "metadata": {},
   "outputs": [],
   "source": [
    "white_black_players_combined = white_players_table.union(black_players_table)"
   ]
  },
  {
   "cell_type": "code",
   "execution_count": null,
   "id": "similar-canada",
   "metadata": {},
   "outputs": [],
   "source": [
    "players_dim_table = white_black_players_combined.select(F.col(\"white_id\").alias(\"id\"),F.col(\"white_username\").alias(\"username\")).dropDuplicates(['id'])"
   ]
  },
  {
   "cell_type": "code",
   "execution_count": null,
   "id": "worth-confidence",
   "metadata": {},
   "outputs": [],
   "source": [
    "#players_dim_table.limit(10).toPandas()"
   ]
  },
  {
   "cell_type": "code",
   "execution_count": null,
   "id": "moving-format",
   "metadata": {},
   "outputs": [],
   "source": [
    "players_dim_table.write.mode('append').parquet(\"s3a://\" + output_data + \"/dim/players\")"
   ]
  },
  {
   "cell_type": "markdown",
   "id": "hungry-neighborhood",
   "metadata": {},
   "source": [
    "### Create and Write Cleaned `time_class` Dim Table"
   ]
  },
  {
   "cell_type": "code",
   "execution_count": null,
   "id": "silent-theme",
   "metadata": {},
   "outputs": [],
   "source": [
    "time_class_table = df_dupes_dropped.select((F.col(\"time_class_id\").alias(\"id\"),\"time_class\").distinct()\n"
   ]
  },
  {
   "cell_type": "code",
   "execution_count": 122,
   "id": "precious-clarity",
   "metadata": {},
   "outputs": [
    {
     "data": {
      "text/html": [
       "<div>\n",
       "<style scoped>\n",
       "    .dataframe tbody tr th:only-of-type {\n",
       "        vertical-align: middle;\n",
       "    }\n",
       "\n",
       "    .dataframe tbody tr th {\n",
       "        vertical-align: top;\n",
       "    }\n",
       "\n",
       "    .dataframe thead th {\n",
       "        text-align: right;\n",
       "    }\n",
       "</style>\n",
       "<table border=\"1\" class=\"dataframe\">\n",
       "  <thead>\n",
       "    <tr style=\"text-align: right;\">\n",
       "      <th></th>\n",
       "      <th>time_class_id</th>\n",
       "      <th>time_class</th>\n",
       "    </tr>\n",
       "  </thead>\n",
       "  <tbody>\n",
       "    <tr>\n",
       "      <th>0</th>\n",
       "      <td>7bff1b790fcdfa5016c20a07a145631da3fe3cfa</td>\n",
       "      <td>ultraBullet</td>\n",
       "    </tr>\n",
       "    <tr>\n",
       "      <th>1</th>\n",
       "      <td>f915e10481634c0a44492699b2b8a3657c334106</td>\n",
       "      <td>correspondence</td>\n",
       "    </tr>\n",
       "    <tr>\n",
       "      <th>2</th>\n",
       "      <td>dc94ac81aa982e5382b814d4d883bfdb2ed62ddf</td>\n",
       "      <td>rapid</td>\n",
       "    </tr>\n",
       "    <tr>\n",
       "      <th>3</th>\n",
       "      <td>2fe14b9b993ea6eb953f8129c7a1edede9792b77</td>\n",
       "      <td>daily</td>\n",
       "    </tr>\n",
       "    <tr>\n",
       "      <th>4</th>\n",
       "      <td>4a19573b7e72b7249d2271839c762ffe1f0452f3</td>\n",
       "      <td>classical</td>\n",
       "    </tr>\n",
       "    <tr>\n",
       "      <th>5</th>\n",
       "      <td>472da2b94e9fa87badd16a55e1eaec4f53ffc52a</td>\n",
       "      <td>bullet</td>\n",
       "    </tr>\n",
       "    <tr>\n",
       "      <th>6</th>\n",
       "      <td>6d199aca996a9a8bff542e2bc10e3f0edc62cd07</td>\n",
       "      <td>blitz</td>\n",
       "    </tr>\n",
       "  </tbody>\n",
       "</table>\n",
       "</div>"
      ],
      "text/plain": [
       "                              time_class_id      time_class\n",
       "0  7bff1b790fcdfa5016c20a07a145631da3fe3cfa     ultraBullet\n",
       "1  f915e10481634c0a44492699b2b8a3657c334106  correspondence\n",
       "2  dc94ac81aa982e5382b814d4d883bfdb2ed62ddf           rapid\n",
       "3  2fe14b9b993ea6eb953f8129c7a1edede9792b77           daily\n",
       "4  4a19573b7e72b7249d2271839c762ffe1f0452f3       classical\n",
       "5  472da2b94e9fa87badd16a55e1eaec4f53ffc52a          bullet\n",
       "6  6d199aca996a9a8bff542e2bc10e3f0edc62cd07           blitz"
      ]
     },
     "execution_count": 122,
     "metadata": {},
     "output_type": "execute_result"
    }
   ],
   "source": [
    "#time_class_table.limit(10).toPandas()"
   ]
  },
  {
   "cell_type": "code",
   "execution_count": null,
   "id": "premier-algorithm",
   "metadata": {},
   "outputs": [],
   "source": [
    "time_class_table.write.mode('append').parquet(\"s3a://\" + output_data + \"/dim/time_class\")"
   ]
  },
  {
   "cell_type": "markdown",
   "id": "outer-trading",
   "metadata": {},
   "source": [
    "### Create and Write Cleaned `platform` Dim Table"
   ]
  },
  {
   "cell_type": "code",
   "execution_count": null,
   "id": "usual-bride",
   "metadata": {},
   "outputs": [],
   "source": [
    "platform_table = df_dupes_dropped.select((F.col(\"platform_id\").alias(\"id\"),\"platform\").distinct()\n"
   ]
  },
  {
   "cell_type": "code",
   "execution_count": null,
   "id": "particular-burton",
   "metadata": {},
   "outputs": [],
   "source": [
    "platform_table.limit(10).toPandas()"
   ]
  },
  {
   "cell_type": "code",
   "execution_count": null,
   "id": "institutional-swaziland",
   "metadata": {},
   "outputs": [],
   "source": [
    "platform_table.write.mode('append').parquet(\"s3a://\" + output_data + \"/dim/platform\")"
   ]
  },
  {
   "cell_type": "markdown",
   "id": "registered-james",
   "metadata": {},
   "source": [
    "## Set and Write Cleaned `games` Fact Table"
   ]
  },
  {
   "cell_type": "markdown",
   "id": "instrumental-legislature",
   "metadata": {},
   "source": [
    "**Warning: depending on your system / Spark cluster resources, this write can take a while!**"
   ]
  },
  {
   "cell_type": "code",
   "execution_count": null,
   "id": "creative-harrison",
   "metadata": {},
   "outputs": [],
   "source": [
    "df_final_games_table = df_dupes_dropped.select(\"game_id\",\"year\",\"game_end_time\",\"game_end_date\", \"time_class_id\", \"white_id\", \"white_rating\",\"black_id\",\"black_rating\",\"winner\",\"termination\",\"opening_id\",\"moves\",\"platform_id\")"
   ]
  },
  {
   "cell_type": "code",
   "execution_count": null,
   "id": "inside-alexander",
   "metadata": {},
   "outputs": [],
   "source": [
    "df_final_games_table.printSchema()"
   ]
  },
  {
   "cell_type": "code",
   "execution_count": null,
   "id": "short-simpson",
   "metadata": {},
   "outputs": [],
   "source": [
    "#df_final_games_table.limit(10).toPandas()"
   ]
  },
  {
   "cell_type": "code",
   "execution_count": null,
   "id": "resident-constitutional",
   "metadata": {},
   "outputs": [],
   "source": [
    "df_final_games_table.write.mode('append').partitionBy(\"year\",\"time_class_id\").parquet(\"s3a://\" + output_data + \"/fact/game\")"
   ]
  },
  {
   "cell_type": "code",
   "execution_count": null,
   "id": "sudden-virgin",
   "metadata": {},
   "outputs": [],
   "source": []
  }
 ],
 "metadata": {
  "kernelspec": {
   "display_name": "Python 3",
   "language": "python",
   "name": "python3"
  },
  "language_info": {
   "codemirror_mode": {
    "name": "ipython",
    "version": 3
   },
   "file_extension": ".py",
   "mimetype": "text/x-python",
   "name": "python",
   "nbconvert_exporter": "python",
   "pygments_lexer": "ipython3",
   "version": "3.8.5"
  }
 },
 "nbformat": 4,
 "nbformat_minor": 5
}
