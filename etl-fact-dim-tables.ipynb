{
 "cells": [
  {
   "cell_type": "markdown",
   "id": "annual-framework",
   "metadata": {},
   "source": [
    "# ETL - Creating Fact and Dim Tables #\n",
    "\n",
    "This notebook loads the Chess.com and Lichess staging tables from .parquet files and performs these final minor transformations on them:\n",
    "\n",
    "1. Removing the extra `rated` column in the the Chess.com staging table before we union the tables.\n",
    "2. Creating an `id` column by hashing the `game_end_time`, `white_username` and `black_username` columns.\n",
    "3. We also create the the following `*_id` columns using Spark SQL's [SHA1 hash function](https://spark.apache.org/docs/2.3.0/api/sql/index.html#sha1):\n",
    "\n",
    "* `game_id` hashed from `game_end_time` + `white_username` + `black_username`\n",
    "* `white_id` hashed from `white_username`\n",
    "* `black_id` hashed from `black_username`\n",
    "* `opening_id` hashed from `opening`\n",
    "* `time_class_id` hashed from `time_class`\n",
    "* `platform_id` hased from `platform`\n",
    "\n",
    "4. We use PySpark's [dropDuplicates](https://spark.apache.org/docs/latest/api/python/reference/api/pyspark.sql.DataFrame.dropDuplicates.html) function to remove rows that have the same (SHA1 hashed) `game_id` column.\n",
    "\n",
    "Currently this removes `50250` rows from the final Chess.com + Lichess combined `games` table dataframe.\n",
    "\n",
    "5. We use PySpark's `.cast()` function to set the correct data types for the date and rating columns.\n",
    "\n",
    "6. We run the following data quality checks:\n",
    "\n",
    "a) Check for nulls in the `game_id` column\n",
    "\n",
    "b) Check that all values in the `games.game_id` column are distinct (no dupes)\n",
    "\n",
    "Finally, we write the cleaned fact and dim tables to a new set of `.parquet` files so these tables can be loaded by our final `analytics.ipynb` notebook."
   ]
  },
  {
   "cell_type": "code",
   "execution_count": 8,
   "id": "later-return",
   "metadata": {
    "scrolled": false
   },
   "outputs": [],
   "source": [
    "from pyspark import SparkContext, SparkConf\n",
    "from pyspark.sql import SparkSession\n",
    "import pyspark.sql.functions as F\n",
    "from pyspark import SQLContext\n",
    "import pandas as pd\n",
    "import yaml, os"
   ]
  },
  {
   "cell_type": "code",
   "execution_count": 11,
   "id": "seventh-links",
   "metadata": {
    "scrolled": false
   },
   "outputs": [],
   "source": [
    "with open(r'config/dl-chessdotcom.yaml') as file:\n",
    "    config = yaml.load(file,Loader=yaml.SafeLoader)\n",
    "\n",
    "os.environ['AWS_ACCESS_KEY_ID']=config['aws_access_key_id']\n",
    "os.environ['AWS_SECRET_ACCESS_KEY']=config['aws_secret_key_id']"
   ]
  },
  {
   "cell_type": "code",
   "execution_count": 12,
   "id": "organizational-burns",
   "metadata": {
    "scrolled": false
   },
   "outputs": [],
   "source": [
    "spark = SparkSession \\\n",
    "    .builder \\\n",
    "    .appName(\"Lichess and Chess.com Staging -> Fact tables\") \\\n",
    "    .getOrCreate()\n",
    "\n",
    "spark.sparkContext._jsc.hadoopConfiguration().set(\"fs.s3a.aws.credentials.provider\",\"org.apache.hadoop.fs.s3a.SimpleAWSCredentialsProvider\")\n",
    "spark.sparkContext._jsc.hadoopConfiguration().set(\"fs.s3a.access.key\",config['aws_access_key_id'])\n",
    "spark.sparkContext._jsc.hadoopConfiguration().set(\"fs.s3a.secret.key\",config['aws_secret_key_id'])"
   ]
  },
  {
   "cell_type": "code",
   "execution_count": 13,
   "id": "premium-copyright",
   "metadata": {
    "scrolled": false
   },
   "outputs": [],
   "source": [
    "# Set which outpath path we need - either local or s3.\n",
    "# output_data = config['output_data_path_local']\n",
    "output_data = config['output_data_path_s3']"
   ]
  },
  {
   "cell_type": "markdown",
   "id": "paperback-intranet",
   "metadata": {},
   "source": [
    "## Load Chess.com Staging Table"
   ]
  },
  {
   "cell_type": "code",
   "execution_count": 14,
   "id": "laden-lottery",
   "metadata": {
    "scrolled": false
   },
   "outputs": [],
   "source": [
    "df_chessdotcom = spark.read.parquet(\"s3a://\" + output_data + \"staging/chessdotcom/games/\")  "
   ]
  },
  {
   "cell_type": "markdown",
   "id": "damaged-agriculture",
   "metadata": {},
   "source": [
    "### Remove extra `rating` column"
   ]
  },
  {
   "cell_type": "markdown",
   "id": "prepared-minnesota",
   "metadata": {},
   "source": [
    "There is an extra `rating` column in the Chess.com table, that we need to remove in order to union it correctly with the Lichess table."
   ]
  },
  {
   "cell_type": "code",
   "execution_count": 15,
   "id": "conservative-lexington",
   "metadata": {
    "scrolled": false
   },
   "outputs": [],
   "source": [
    "df_chessdotcom = df_chessdotcom.drop(\"rated\") #Remove extra column in Chess.com staging table.\n",
    "\n",
    "#df_chessdotcom.printSchema()"
   ]
  },
  {
   "cell_type": "code",
   "execution_count": 16,
   "id": "domestic-lyric",
   "metadata": {
    "scrolled": false
   },
   "outputs": [],
   "source": [
    "#df_chessdotcom.limit(10).toPandas()"
   ]
  },
  {
   "cell_type": "markdown",
   "id": "deluxe-biotechnology",
   "metadata": {},
   "source": [
    "## Load Lichess Staging Table"
   ]
  },
  {
   "cell_type": "code",
   "execution_count": 17,
   "id": "accessible-evans",
   "metadata": {
    "scrolled": false
   },
   "outputs": [],
   "source": [
    "df_lichess = spark.read.parquet(\"s3a://\" + output_data + \"staging/lichess/games/\")"
   ]
  },
  {
   "cell_type": "code",
   "execution_count": 18,
   "id": "responsible-malawi",
   "metadata": {
    "scrolled": false
   },
   "outputs": [],
   "source": [
    "#df_lichess.printSchema()"
   ]
  },
  {
   "cell_type": "markdown",
   "id": "friendly-laptop",
   "metadata": {},
   "source": []
  },
  {
   "cell_type": "markdown",
   "id": "freelance-recall",
   "metadata": {},
   "source": [
    "## Combine Chess.com + Lichess `games` Table Dataframes"
   ]
  },
  {
   "cell_type": "code",
   "execution_count": 19,
   "id": "greater-profile",
   "metadata": {
    "scrolled": false
   },
   "outputs": [],
   "source": [
    "df_merged = df_chessdotcom.union(df_lichess)"
   ]
  },
  {
   "cell_type": "code",
   "execution_count": 20,
   "id": "animated-means",
   "metadata": {
    "scrolled": false
   },
   "outputs": [],
   "source": [
    "#df_merged.count()"
   ]
  },
  {
   "cell_type": "markdown",
   "id": "secondary-alabama",
   "metadata": {},
   "source": [
    "### Create `game_id` column"
   ]
  },
  {
   "cell_type": "code",
   "execution_count": 21,
   "id": "strong-messaging",
   "metadata": {
    "scrolled": false
   },
   "outputs": [],
   "source": [
    "df_merged_with_game_id = df_merged.withColumn(\"game_id\", F.sha1(F.concat(F.col(\"game_end_time\"),F.col(\"white_username\"),F.col(\"black_username\"))))"
   ]
  },
  {
   "cell_type": "markdown",
   "id": "nutritional-stereo",
   "metadata": {},
   "source": [
    "### Create `white_id` and `black_id` columns"
   ]
  },
  {
   "cell_type": "code",
   "execution_count": 22,
   "id": "destroyed-brown",
   "metadata": {
    "scrolled": false
   },
   "outputs": [],
   "source": [
    "df_merged_with_white_id = df_merged_with_game_id.withColumn(\"white_id\", F.sha1(F.col(\"white_username\")))"
   ]
  },
  {
   "cell_type": "code",
   "execution_count": 23,
   "id": "hungry-threat",
   "metadata": {
    "scrolled": false
   },
   "outputs": [],
   "source": [
    "df_merged_with_black_id = df_merged_with_white_id.withColumn(\"black_id\", F.sha1(F.col(\"black_username\")))"
   ]
  },
  {
   "cell_type": "markdown",
   "id": "changing-probe",
   "metadata": {},
   "source": [
    "### Create `opening_id` column"
   ]
  },
  {
   "cell_type": "code",
   "execution_count": 24,
   "id": "usual-election",
   "metadata": {
    "scrolled": false
   },
   "outputs": [],
   "source": [
    "df_merged_with_opening_id = df_merged_with_black_id.withColumn(\"opening_id\", F.sha1(F.col(\"opening\")))"
   ]
  },
  {
   "cell_type": "markdown",
   "id": "joint-heart",
   "metadata": {},
   "source": [
    "### Create `time_class_id` column"
   ]
  },
  {
   "cell_type": "code",
   "execution_count": 25,
   "id": "musical-binary",
   "metadata": {
    "scrolled": false
   },
   "outputs": [],
   "source": [
    "df_merged_with_tc_id = df_merged_with_opening_id.withColumn(\"time_class_id\", F.sha1(F.col(\"time_class\")))"
   ]
  },
  {
   "cell_type": "markdown",
   "id": "mexican-rainbow",
   "metadata": {},
   "source": [
    "### Create `platform_id` column"
   ]
  },
  {
   "cell_type": "code",
   "execution_count": 26,
   "id": "finite-peeing",
   "metadata": {
    "scrolled": false
   },
   "outputs": [],
   "source": [
    "df_merged_with_plaform_id = df_merged_with_tc_id.withColumn(\"platform_id\", F.sha1(F.col(\"platform\")))"
   ]
  },
  {
   "cell_type": "markdown",
   "id": "roman-cardiff",
   "metadata": {},
   "source": [
    "### Create`year`column"
   ]
  },
  {
   "cell_type": "code",
   "execution_count": 27,
   "id": "incorrect-bahamas",
   "metadata": {
    "scrolled": false
   },
   "outputs": [],
   "source": [
    "df_merged_with_year = df_merged_with_plaform_id.withColumn(\"year\", F.year(F.col('game_end_date')))"
   ]
  },
  {
   "cell_type": "code",
   "execution_count": 28,
   "id": "three-consideration",
   "metadata": {
    "scrolled": false
   },
   "outputs": [
    {
     "data": {
      "text/html": [
       "<div>\n",
       "<style scoped>\n",
       "    .dataframe tbody tr th:only-of-type {\n",
       "        vertical-align: middle;\n",
       "    }\n",
       "\n",
       "    .dataframe tbody tr th {\n",
       "        vertical-align: top;\n",
       "    }\n",
       "\n",
       "    .dataframe thead th {\n",
       "        text-align: right;\n",
       "    }\n",
       "</style>\n",
       "<table border=\"1\" class=\"dataframe\">\n",
       "  <thead>\n",
       "    <tr style=\"text-align: right;\">\n",
       "      <th></th>\n",
       "      <th>game_end_time</th>\n",
       "      <th>game_end_date</th>\n",
       "      <th>time_class</th>\n",
       "      <th>white_username</th>\n",
       "      <th>white_rating</th>\n",
       "      <th>black_username</th>\n",
       "      <th>black_rating</th>\n",
       "      <th>winner</th>\n",
       "      <th>termination</th>\n",
       "      <th>opening</th>\n",
       "      <th>moves</th>\n",
       "      <th>platform</th>\n",
       "      <th>game_id</th>\n",
       "      <th>white_id</th>\n",
       "      <th>black_id</th>\n",
       "      <th>opening_id</th>\n",
       "      <th>time_class_id</th>\n",
       "      <th>platform_id</th>\n",
       "      <th>year</th>\n",
       "    </tr>\n",
       "  </thead>\n",
       "  <tbody>\n",
       "    <tr>\n",
       "      <th>0</th>\n",
       "      <td>2019-07-05 06:04:38</td>\n",
       "      <td>2019-07-05</td>\n",
       "      <td>bullet</td>\n",
       "      <td>AnthonyWirig</td>\n",
       "      <td>2693.0</td>\n",
       "      <td>Byniolus</td>\n",
       "      <td>2605.0</td>\n",
       "      <td>None</td>\n",
       "      <td>Game drawn by repetition</td>\n",
       "      <td>Slav Defense Modern Line</td>\n",
       "      <td>1. d4 {[%clk 0:00:59.9]} 1... d5 {[%clk 0:00:5...</td>\n",
       "      <td>chessdotcom</td>\n",
       "      <td>7945d55f55a90303f8e3a0e27b79bb2ce4b6b71b</td>\n",
       "      <td>30f50d341f994926ef531a5a9ab913f6d1a9a659</td>\n",
       "      <td>0a18e34ad8d152e2d54ac1e3ca4843768768b2c8</td>\n",
       "      <td>1bf7dcd630549c20df5ea7e0c9a00111dc628ff0</td>\n",
       "      <td>472da2b94e9fa87badd16a55e1eaec4f53ffc52a</td>\n",
       "      <td>224fccb5995aa2f6fd208d59570e06a95a438283</td>\n",
       "      <td>2019</td>\n",
       "    </tr>\n",
       "    <tr>\n",
       "      <th>1</th>\n",
       "      <td>2019-07-05 06:07:14</td>\n",
       "      <td>2019-07-05</td>\n",
       "      <td>bullet</td>\n",
       "      <td>Byniolus</td>\n",
       "      <td>2615.0</td>\n",
       "      <td>AnthonyWirig</td>\n",
       "      <td>2683.0</td>\n",
       "      <td>white</td>\n",
       "      <td>Byniolus won on time</td>\n",
       "      <td>Reti Opening Sicilian Invitation 2.d4</td>\n",
       "      <td>1. Nf3 {[%clk 0:00:59.9]} 1... c5 {[%clk 0:00:...</td>\n",
       "      <td>chessdotcom</td>\n",
       "      <td>204e7ca0dc82aab9d8c76b951f6aa015f8224527</td>\n",
       "      <td>0a18e34ad8d152e2d54ac1e3ca4843768768b2c8</td>\n",
       "      <td>30f50d341f994926ef531a5a9ab913f6d1a9a659</td>\n",
       "      <td>dd60fc18f81cb65b19c8da336c99142664f007d1</td>\n",
       "      <td>472da2b94e9fa87badd16a55e1eaec4f53ffc52a</td>\n",
       "      <td>224fccb5995aa2f6fd208d59570e06a95a438283</td>\n",
       "      <td>2019</td>\n",
       "    </tr>\n",
       "    <tr>\n",
       "      <th>2</th>\n",
       "      <td>2019-07-05 06:09:44</td>\n",
       "      <td>2019-07-05</td>\n",
       "      <td>bullet</td>\n",
       "      <td>AnthonyWirig</td>\n",
       "      <td>2689.0</td>\n",
       "      <td>Byniolus</td>\n",
       "      <td>2609.0</td>\n",
       "      <td>white</td>\n",
       "      <td>AnthonyWirig won on time</td>\n",
       "      <td>Vant Kruijs Opening 1...d5</td>\n",
       "      <td>1. e3 {[%clk 0:00:59.9]} 1... d5 {[%clk 0:00:5...</td>\n",
       "      <td>chessdotcom</td>\n",
       "      <td>5a68679490dca4d5e1208c681d3d4302550e61be</td>\n",
       "      <td>30f50d341f994926ef531a5a9ab913f6d1a9a659</td>\n",
       "      <td>0a18e34ad8d152e2d54ac1e3ca4843768768b2c8</td>\n",
       "      <td>8159020ada7b3f84ca6b8e0000ba06e28a6e6321</td>\n",
       "      <td>472da2b94e9fa87badd16a55e1eaec4f53ffc52a</td>\n",
       "      <td>224fccb5995aa2f6fd208d59570e06a95a438283</td>\n",
       "      <td>2019</td>\n",
       "    </tr>\n",
       "    <tr>\n",
       "      <th>3</th>\n",
       "      <td>2019-07-05 06:11:00</td>\n",
       "      <td>2019-07-05</td>\n",
       "      <td>blitz</td>\n",
       "      <td>AverageRecord</td>\n",
       "      <td>2983.0</td>\n",
       "      <td>Firouzja2003</td>\n",
       "      <td>3032.0</td>\n",
       "      <td>black</td>\n",
       "      <td>Firouzja2003 won on time</td>\n",
       "      <td>Queens Pawn Opening Symmetrical Variation</td>\n",
       "      <td>1. d4 {[%clk 0:02:59.9]} 1... d5 {[%clk 0:02:5...</td>\n",
       "      <td>chessdotcom</td>\n",
       "      <td>82c2605f4ad83a33f32d7aa9b94ba23eb86931a6</td>\n",
       "      <td>6db210f0dad8997ca206c03cebe678f365cc65d3</td>\n",
       "      <td>a543b4d983c19658ef674e30404c2fff3b3e8bea</td>\n",
       "      <td>01e332f824ba36196b0ec09d3e1359d4def5463a</td>\n",
       "      <td>6d199aca996a9a8bff542e2bc10e3f0edc62cd07</td>\n",
       "      <td>224fccb5995aa2f6fd208d59570e06a95a438283</td>\n",
       "      <td>2019</td>\n",
       "    </tr>\n",
       "    <tr>\n",
       "      <th>4</th>\n",
       "      <td>2019-07-05 06:11:51</td>\n",
       "      <td>2019-07-05</td>\n",
       "      <td>bullet</td>\n",
       "      <td>Byniolus</td>\n",
       "      <td>2619.0</td>\n",
       "      <td>AnthonyWirig</td>\n",
       "      <td>2679.0</td>\n",
       "      <td>white</td>\n",
       "      <td>Byniolus won by checkmate</td>\n",
       "      <td>Englund Gambit Declined Reversed Alekhine Vari...</td>\n",
       "      <td>1. d4 {[%clk 0:00:59.9]} 1... e5 {[%clk 0:00:5...</td>\n",
       "      <td>chessdotcom</td>\n",
       "      <td>7d49674d83bdd829726775a0b3f2fcd19f19c185</td>\n",
       "      <td>0a18e34ad8d152e2d54ac1e3ca4843768768b2c8</td>\n",
       "      <td>30f50d341f994926ef531a5a9ab913f6d1a9a659</td>\n",
       "      <td>f4a0b065b5025458df464b512ebf85e0de3fa079</td>\n",
       "      <td>472da2b94e9fa87badd16a55e1eaec4f53ffc52a</td>\n",
       "      <td>224fccb5995aa2f6fd208d59570e06a95a438283</td>\n",
       "      <td>2019</td>\n",
       "    </tr>\n",
       "    <tr>\n",
       "      <th>5</th>\n",
       "      <td>2019-07-05 06:14:28</td>\n",
       "      <td>2019-07-05</td>\n",
       "      <td>bullet</td>\n",
       "      <td>AnthonyWirig</td>\n",
       "      <td>2670.0</td>\n",
       "      <td>Byniolus</td>\n",
       "      <td>2628.0</td>\n",
       "      <td>black</td>\n",
       "      <td>Byniolus won on time</td>\n",
       "      <td>Pirc Defense 2.Nc3 Nf6</td>\n",
       "      <td>1. e4 {[%clk 0:00:59.9]} 1... d6 {[%clk 0:00:5...</td>\n",
       "      <td>chessdotcom</td>\n",
       "      <td>13f372c4e892a0e67152c65baf3afc0b61528c25</td>\n",
       "      <td>30f50d341f994926ef531a5a9ab913f6d1a9a659</td>\n",
       "      <td>0a18e34ad8d152e2d54ac1e3ca4843768768b2c8</td>\n",
       "      <td>ee21bc01c89a5fc482bccd76ab2b5ad3d20ac48d</td>\n",
       "      <td>472da2b94e9fa87badd16a55e1eaec4f53ffc52a</td>\n",
       "      <td>224fccb5995aa2f6fd208d59570e06a95a438283</td>\n",
       "      <td>2019</td>\n",
       "    </tr>\n",
       "    <tr>\n",
       "      <th>6</th>\n",
       "      <td>2019-07-05 06:18:04</td>\n",
       "      <td>2019-07-05</td>\n",
       "      <td>blitz</td>\n",
       "      <td>TST2014</td>\n",
       "      <td>2588.0</td>\n",
       "      <td>AverageRecord</td>\n",
       "      <td>2985.0</td>\n",
       "      <td>black</td>\n",
       "      <td>AverageRecord won on time</td>\n",
       "      <td>Queens Gambit Declined Three Knights Variation</td>\n",
       "      <td>1. d4 {[%clk 0:02:59.9]} 1... d5 {[%clk 0:02:5...</td>\n",
       "      <td>chessdotcom</td>\n",
       "      <td>b30b13eea6fec55302c036787d2b9eb62e5c4155</td>\n",
       "      <td>6f4db437261bf2619cc3814f0e9f128c9a5aec34</td>\n",
       "      <td>6db210f0dad8997ca206c03cebe678f365cc65d3</td>\n",
       "      <td>1334c1ea28f9b12ff8629e815c451d2881199f0c</td>\n",
       "      <td>6d199aca996a9a8bff542e2bc10e3f0edc62cd07</td>\n",
       "      <td>224fccb5995aa2f6fd208d59570e06a95a438283</td>\n",
       "      <td>2019</td>\n",
       "    </tr>\n",
       "    <tr>\n",
       "      <th>7</th>\n",
       "      <td>2019-07-05 06:20:52</td>\n",
       "      <td>2019-07-05</td>\n",
       "      <td>blitz</td>\n",
       "      <td>transponster</td>\n",
       "      <td>2815.0</td>\n",
       "      <td>Alexander_Moskalenko</td>\n",
       "      <td>2856.0</td>\n",
       "      <td>black</td>\n",
       "      <td>Alexander_Moskalenko won by resignation</td>\n",
       "      <td>Kings Indian Defense 3.Nc3 d6</td>\n",
       "      <td>1. d4 {[%clk 0:02:59.9]} 1... Nf6 {[%clk 0:02:...</td>\n",
       "      <td>chessdotcom</td>\n",
       "      <td>389f83e77af76acb9a57f5f7dbe457a06ec2a141</td>\n",
       "      <td>01a6231e8c2433640181e3ba529284b966c67503</td>\n",
       "      <td>b1a6117173dc9001b21957f6dbea785430b8dd39</td>\n",
       "      <td>8ee4fc60be53b342da2c1816264591491166dcb8</td>\n",
       "      <td>6d199aca996a9a8bff542e2bc10e3f0edc62cd07</td>\n",
       "      <td>224fccb5995aa2f6fd208d59570e06a95a438283</td>\n",
       "      <td>2019</td>\n",
       "    </tr>\n",
       "    <tr>\n",
       "      <th>8</th>\n",
       "      <td>2019-07-05 06:25:57</td>\n",
       "      <td>2019-07-05</td>\n",
       "      <td>blitz</td>\n",
       "      <td>Alexander_Moskalenko</td>\n",
       "      <td>2855.0</td>\n",
       "      <td>transponster</td>\n",
       "      <td>2816.0</td>\n",
       "      <td>None</td>\n",
       "      <td>Game drawn by agreement</td>\n",
       "      <td>English Opening Agincourt Defense 2.Nf3 d5</td>\n",
       "      <td>1. c4 {[%clk 0:02:59.9]} 1... e6 {[%clk 0:02:5...</td>\n",
       "      <td>chessdotcom</td>\n",
       "      <td>094b73b26d0b7eddcea6298555f20307a765a6ee</td>\n",
       "      <td>b1a6117173dc9001b21957f6dbea785430b8dd39</td>\n",
       "      <td>01a6231e8c2433640181e3ba529284b966c67503</td>\n",
       "      <td>f58a535100cd88471fc8f39400d8ffeb005cf48c</td>\n",
       "      <td>6d199aca996a9a8bff542e2bc10e3f0edc62cd07</td>\n",
       "      <td>224fccb5995aa2f6fd208d59570e06a95a438283</td>\n",
       "      <td>2019</td>\n",
       "    </tr>\n",
       "    <tr>\n",
       "      <th>9</th>\n",
       "      <td>2019-07-05 06:32:08</td>\n",
       "      <td>2019-07-05</td>\n",
       "      <td>blitz</td>\n",
       "      <td>transponster</td>\n",
       "      <td>2817.0</td>\n",
       "      <td>Alexander_Moskalenko</td>\n",
       "      <td>2854.0</td>\n",
       "      <td>None</td>\n",
       "      <td>Game drawn by insufficient material</td>\n",
       "      <td>Kings Indian Defense Normal Variation 4.e4 O O</td>\n",
       "      <td>1. d4 {[%clk 0:02:59.9]} 1... Nf6 {[%clk 0:02:...</td>\n",
       "      <td>chessdotcom</td>\n",
       "      <td>01471743c661bc19ceb8bb3f4576e1bf59b0ee3e</td>\n",
       "      <td>01a6231e8c2433640181e3ba529284b966c67503</td>\n",
       "      <td>b1a6117173dc9001b21957f6dbea785430b8dd39</td>\n",
       "      <td>986138c42f455e507f39747c813de4c3d9ba5db4</td>\n",
       "      <td>6d199aca996a9a8bff542e2bc10e3f0edc62cd07</td>\n",
       "      <td>224fccb5995aa2f6fd208d59570e06a95a438283</td>\n",
       "      <td>2019</td>\n",
       "    </tr>\n",
       "  </tbody>\n",
       "</table>\n",
       "</div>"
      ],
      "text/plain": [
       "         game_end_time game_end_date time_class        white_username  \\\n",
       "0  2019-07-05 06:04:38    2019-07-05     bullet          AnthonyWirig   \n",
       "1  2019-07-05 06:07:14    2019-07-05     bullet              Byniolus   \n",
       "2  2019-07-05 06:09:44    2019-07-05     bullet          AnthonyWirig   \n",
       "3  2019-07-05 06:11:00    2019-07-05      blitz         AverageRecord   \n",
       "4  2019-07-05 06:11:51    2019-07-05     bullet              Byniolus   \n",
       "5  2019-07-05 06:14:28    2019-07-05     bullet          AnthonyWirig   \n",
       "6  2019-07-05 06:18:04    2019-07-05      blitz               TST2014   \n",
       "7  2019-07-05 06:20:52    2019-07-05      blitz          transponster   \n",
       "8  2019-07-05 06:25:57    2019-07-05      blitz  Alexander_Moskalenko   \n",
       "9  2019-07-05 06:32:08    2019-07-05      blitz          transponster   \n",
       "\n",
       "   white_rating        black_username  black_rating winner  \\\n",
       "0        2693.0              Byniolus        2605.0   None   \n",
       "1        2615.0          AnthonyWirig        2683.0  white   \n",
       "2        2689.0              Byniolus        2609.0  white   \n",
       "3        2983.0          Firouzja2003        3032.0  black   \n",
       "4        2619.0          AnthonyWirig        2679.0  white   \n",
       "5        2670.0              Byniolus        2628.0  black   \n",
       "6        2588.0         AverageRecord        2985.0  black   \n",
       "7        2815.0  Alexander_Moskalenko        2856.0  black   \n",
       "8        2855.0          transponster        2816.0   None   \n",
       "9        2817.0  Alexander_Moskalenko        2854.0   None   \n",
       "\n",
       "                               termination  \\\n",
       "0                 Game drawn by repetition   \n",
       "1                     Byniolus won on time   \n",
       "2                 AnthonyWirig won on time   \n",
       "3                 Firouzja2003 won on time   \n",
       "4                Byniolus won by checkmate   \n",
       "5                     Byniolus won on time   \n",
       "6                AverageRecord won on time   \n",
       "7  Alexander_Moskalenko won by resignation   \n",
       "8                  Game drawn by agreement   \n",
       "9      Game drawn by insufficient material   \n",
       "\n",
       "                                             opening  \\\n",
       "0                           Slav Defense Modern Line   \n",
       "1              Reti Opening Sicilian Invitation 2.d4   \n",
       "2                         Vant Kruijs Opening 1...d5   \n",
       "3          Queens Pawn Opening Symmetrical Variation   \n",
       "4  Englund Gambit Declined Reversed Alekhine Vari...   \n",
       "5                             Pirc Defense 2.Nc3 Nf6   \n",
       "6     Queens Gambit Declined Three Knights Variation   \n",
       "7                      Kings Indian Defense 3.Nc3 d6   \n",
       "8         English Opening Agincourt Defense 2.Nf3 d5   \n",
       "9     Kings Indian Defense Normal Variation 4.e4 O O   \n",
       "\n",
       "                                               moves     platform  \\\n",
       "0  1. d4 {[%clk 0:00:59.9]} 1... d5 {[%clk 0:00:5...  chessdotcom   \n",
       "1  1. Nf3 {[%clk 0:00:59.9]} 1... c5 {[%clk 0:00:...  chessdotcom   \n",
       "2  1. e3 {[%clk 0:00:59.9]} 1... d5 {[%clk 0:00:5...  chessdotcom   \n",
       "3  1. d4 {[%clk 0:02:59.9]} 1... d5 {[%clk 0:02:5...  chessdotcom   \n",
       "4  1. d4 {[%clk 0:00:59.9]} 1... e5 {[%clk 0:00:5...  chessdotcom   \n",
       "5  1. e4 {[%clk 0:00:59.9]} 1... d6 {[%clk 0:00:5...  chessdotcom   \n",
       "6  1. d4 {[%clk 0:02:59.9]} 1... d5 {[%clk 0:02:5...  chessdotcom   \n",
       "7  1. d4 {[%clk 0:02:59.9]} 1... Nf6 {[%clk 0:02:...  chessdotcom   \n",
       "8  1. c4 {[%clk 0:02:59.9]} 1... e6 {[%clk 0:02:5...  chessdotcom   \n",
       "9  1. d4 {[%clk 0:02:59.9]} 1... Nf6 {[%clk 0:02:...  chessdotcom   \n",
       "\n",
       "                                    game_id  \\\n",
       "0  7945d55f55a90303f8e3a0e27b79bb2ce4b6b71b   \n",
       "1  204e7ca0dc82aab9d8c76b951f6aa015f8224527   \n",
       "2  5a68679490dca4d5e1208c681d3d4302550e61be   \n",
       "3  82c2605f4ad83a33f32d7aa9b94ba23eb86931a6   \n",
       "4  7d49674d83bdd829726775a0b3f2fcd19f19c185   \n",
       "5  13f372c4e892a0e67152c65baf3afc0b61528c25   \n",
       "6  b30b13eea6fec55302c036787d2b9eb62e5c4155   \n",
       "7  389f83e77af76acb9a57f5f7dbe457a06ec2a141   \n",
       "8  094b73b26d0b7eddcea6298555f20307a765a6ee   \n",
       "9  01471743c661bc19ceb8bb3f4576e1bf59b0ee3e   \n",
       "\n",
       "                                   white_id  \\\n",
       "0  30f50d341f994926ef531a5a9ab913f6d1a9a659   \n",
       "1  0a18e34ad8d152e2d54ac1e3ca4843768768b2c8   \n",
       "2  30f50d341f994926ef531a5a9ab913f6d1a9a659   \n",
       "3  6db210f0dad8997ca206c03cebe678f365cc65d3   \n",
       "4  0a18e34ad8d152e2d54ac1e3ca4843768768b2c8   \n",
       "5  30f50d341f994926ef531a5a9ab913f6d1a9a659   \n",
       "6  6f4db437261bf2619cc3814f0e9f128c9a5aec34   \n",
       "7  01a6231e8c2433640181e3ba529284b966c67503   \n",
       "8  b1a6117173dc9001b21957f6dbea785430b8dd39   \n",
       "9  01a6231e8c2433640181e3ba529284b966c67503   \n",
       "\n",
       "                                   black_id  \\\n",
       "0  0a18e34ad8d152e2d54ac1e3ca4843768768b2c8   \n",
       "1  30f50d341f994926ef531a5a9ab913f6d1a9a659   \n",
       "2  0a18e34ad8d152e2d54ac1e3ca4843768768b2c8   \n",
       "3  a543b4d983c19658ef674e30404c2fff3b3e8bea   \n",
       "4  30f50d341f994926ef531a5a9ab913f6d1a9a659   \n",
       "5  0a18e34ad8d152e2d54ac1e3ca4843768768b2c8   \n",
       "6  6db210f0dad8997ca206c03cebe678f365cc65d3   \n",
       "7  b1a6117173dc9001b21957f6dbea785430b8dd39   \n",
       "8  01a6231e8c2433640181e3ba529284b966c67503   \n",
       "9  b1a6117173dc9001b21957f6dbea785430b8dd39   \n",
       "\n",
       "                                 opening_id  \\\n",
       "0  1bf7dcd630549c20df5ea7e0c9a00111dc628ff0   \n",
       "1  dd60fc18f81cb65b19c8da336c99142664f007d1   \n",
       "2  8159020ada7b3f84ca6b8e0000ba06e28a6e6321   \n",
       "3  01e332f824ba36196b0ec09d3e1359d4def5463a   \n",
       "4  f4a0b065b5025458df464b512ebf85e0de3fa079   \n",
       "5  ee21bc01c89a5fc482bccd76ab2b5ad3d20ac48d   \n",
       "6  1334c1ea28f9b12ff8629e815c451d2881199f0c   \n",
       "7  8ee4fc60be53b342da2c1816264591491166dcb8   \n",
       "8  f58a535100cd88471fc8f39400d8ffeb005cf48c   \n",
       "9  986138c42f455e507f39747c813de4c3d9ba5db4   \n",
       "\n",
       "                              time_class_id  \\\n",
       "0  472da2b94e9fa87badd16a55e1eaec4f53ffc52a   \n",
       "1  472da2b94e9fa87badd16a55e1eaec4f53ffc52a   \n",
       "2  472da2b94e9fa87badd16a55e1eaec4f53ffc52a   \n",
       "3  6d199aca996a9a8bff542e2bc10e3f0edc62cd07   \n",
       "4  472da2b94e9fa87badd16a55e1eaec4f53ffc52a   \n",
       "5  472da2b94e9fa87badd16a55e1eaec4f53ffc52a   \n",
       "6  6d199aca996a9a8bff542e2bc10e3f0edc62cd07   \n",
       "7  6d199aca996a9a8bff542e2bc10e3f0edc62cd07   \n",
       "8  6d199aca996a9a8bff542e2bc10e3f0edc62cd07   \n",
       "9  6d199aca996a9a8bff542e2bc10e3f0edc62cd07   \n",
       "\n",
       "                                platform_id  year  \n",
       "0  224fccb5995aa2f6fd208d59570e06a95a438283  2019  \n",
       "1  224fccb5995aa2f6fd208d59570e06a95a438283  2019  \n",
       "2  224fccb5995aa2f6fd208d59570e06a95a438283  2019  \n",
       "3  224fccb5995aa2f6fd208d59570e06a95a438283  2019  \n",
       "4  224fccb5995aa2f6fd208d59570e06a95a438283  2019  \n",
       "5  224fccb5995aa2f6fd208d59570e06a95a438283  2019  \n",
       "6  224fccb5995aa2f6fd208d59570e06a95a438283  2019  \n",
       "7  224fccb5995aa2f6fd208d59570e06a95a438283  2019  \n",
       "8  224fccb5995aa2f6fd208d59570e06a95a438283  2019  \n",
       "9  224fccb5995aa2f6fd208d59570e06a95a438283  2019  "
      ]
     },
     "execution_count": 28,
     "metadata": {},
     "output_type": "execute_result"
    }
   ],
   "source": [
    "df_merged_with_year.limit(10).toPandas()"
   ]
  },
  {
   "cell_type": "code",
   "execution_count": 24,
   "id": "seven-astronomy",
   "metadata": {
    "scrolled": false
   },
   "outputs": [
    {
     "data": {
      "text/plain": [
       "1047618"
      ]
     },
     "execution_count": 24,
     "metadata": {},
     "output_type": "execute_result"
    }
   ],
   "source": [
    "df_merged_with_year.count()"
   ]
  },
  {
   "cell_type": "markdown",
   "id": "naked-practice",
   "metadata": {},
   "source": [
    "## Check Merged `Games` Dim Table for Dupes of `id` Column and Drop Them"
   ]
  },
  {
   "cell_type": "code",
   "execution_count": 29,
   "id": "demographic-clock",
   "metadata": {
    "scrolled": false
   },
   "outputs": [],
   "source": [
    "df_dupes_dropped = df_merged_with_year.dropDuplicates(['game_id'])"
   ]
  },
  {
   "cell_type": "code",
   "execution_count": 79,
   "id": "broken-batch",
   "metadata": {
    "scrolled": false
   },
   "outputs": [],
   "source": [
    "df_dupes_dropped_count = df_dupes_dropped.count()"
   ]
  },
  {
   "cell_type": "markdown",
   "id": "difficult-recruitment",
   "metadata": {},
   "source": [
    "## Set Correct Data Types for Date and Rating Columns"
   ]
  },
  {
   "cell_type": "code",
   "execution_count": 30,
   "id": "optional-nowhere",
   "metadata": {
    "scrolled": false
   },
   "outputs": [],
   "source": [
    "df_dupes_dropped = df_dupes_dropped.withColumn(\"year\",df_dupes_dropped.year.cast('int'))\n",
    "df_dupes_dropped = df_dupes_dropped.withColumn(\"game_end_time\",df_dupes_dropped.game_end_time.cast('timestamp'))\n",
    "df_dupes_dropped = df_dupes_dropped.withColumn(\"game_end_date\",df_dupes_dropped.game_end_date.cast('timestamp'))\n",
    "df_dupes_dropped = df_dupes_dropped.withColumn(\"white_rating\",df_dupes_dropped.white_rating.cast('int'))\n",
    "df_dupes_dropped = df_dupes_dropped.withColumn(\"black_rating\",df_dupes_dropped.black_rating.cast('int'))\n"
   ]
  },
  {
   "cell_type": "markdown",
   "id": "danish-status",
   "metadata": {},
   "source": [
    "### Create and Write Cleaned `openings` Dim Table"
   ]
  },
  {
   "cell_type": "code",
   "execution_count": 31,
   "id": "occupational-drawing",
   "metadata": {
    "scrolled": false
   },
   "outputs": [],
   "source": [
    "openings_dim_table = df_dupes_dropped.select(F.col(\"opening_id\").alias(\"id\"),\"opening\").distinct()\n"
   ]
  },
  {
   "cell_type": "code",
   "execution_count": null,
   "id": "respected-tuition",
   "metadata": {
    "scrolled": false
   },
   "outputs": [],
   "source": [
    "#openings_dim_table.limit(10).toPandas()"
   ]
  },
  {
   "cell_type": "code",
   "execution_count": null,
   "id": "statistical-parker",
   "metadata": {
    "scrolled": false
   },
   "outputs": [],
   "source": [
    "openings_dim_table.write.mode('append').parquet(\"s3a://\" + output_data + \"/dim/openings\")"
   ]
  },
  {
   "cell_type": "markdown",
   "id": "casual-finding",
   "metadata": {},
   "source": [
    "### Create and Write Cleaned `players` Dim Table"
   ]
  },
  {
   "cell_type": "code",
   "execution_count": null,
   "id": "hawaiian-roman",
   "metadata": {
    "scrolled": false
   },
   "outputs": [],
   "source": [
    "white_players_table = df_dupes_dropped.select(\"white_id\",\"white_username\").distinct()"
   ]
  },
  {
   "cell_type": "code",
   "execution_count": null,
   "id": "blond-lambda",
   "metadata": {
    "scrolled": false
   },
   "outputs": [],
   "source": [
    "black_players_table = df_dupes_dropped.select(\"black_id\",\"black_username\").distinct()"
   ]
  },
  {
   "cell_type": "code",
   "execution_count": null,
   "id": "macro-hammer",
   "metadata": {
    "scrolled": false
   },
   "outputs": [],
   "source": [
    "white_black_players_combined = white_players_table.union(black_players_table)"
   ]
  },
  {
   "cell_type": "code",
   "execution_count": null,
   "id": "similar-canada",
   "metadata": {
    "scrolled": false
   },
   "outputs": [],
   "source": [
    "players_dim_table = white_black_players_combined.select(F.col(\"white_id\").alias(\"id\"),F.col(\"white_username\").alias(\"username\")).dropDuplicates(['id'])"
   ]
  },
  {
   "cell_type": "code",
   "execution_count": null,
   "id": "worth-confidence",
   "metadata": {
    "scrolled": false
   },
   "outputs": [],
   "source": [
    "#players_dim_table.limit(10).toPandas()"
   ]
  },
  {
   "cell_type": "code",
   "execution_count": null,
   "id": "moving-format",
   "metadata": {
    "scrolled": false
   },
   "outputs": [],
   "source": [
    "players_dim_table.write.mode('append').parquet(\"s3a://\" + output_data + \"/dim/players\")"
   ]
  },
  {
   "cell_type": "markdown",
   "id": "hungry-neighborhood",
   "metadata": {},
   "source": [
    "### Create and Write Cleaned `time_class` Dim Table"
   ]
  },
  {
   "cell_type": "code",
   "execution_count": null,
   "id": "silent-theme",
   "metadata": {
    "scrolled": false
   },
   "outputs": [],
   "source": [
    "time_class_table = df_dupes_dropped.select((F.col(\"time_class_id\").alias(\"id\"),\"time_class\").distinct()\n"
   ]
  },
  {
   "cell_type": "code",
   "execution_count": 122,
   "id": "precious-clarity",
   "metadata": {
    "scrolled": false
   },
   "outputs": [
    {
     "data": {
      "text/html": [
       "<div>\n",
       "<style scoped>\n",
       "    .dataframe tbody tr th:only-of-type {\n",
       "        vertical-align: middle;\n",
       "    }\n",
       "\n",
       "    .dataframe tbody tr th {\n",
       "        vertical-align: top;\n",
       "    }\n",
       "\n",
       "    .dataframe thead th {\n",
       "        text-align: right;\n",
       "    }\n",
       "</style>\n",
       "<table border=\"1\" class=\"dataframe\">\n",
       "  <thead>\n",
       "    <tr style=\"text-align: right;\">\n",
       "      <th></th>\n",
       "      <th>time_class_id</th>\n",
       "      <th>time_class</th>\n",
       "    </tr>\n",
       "  </thead>\n",
       "  <tbody>\n",
       "    <tr>\n",
       "      <th>0</th>\n",
       "      <td>7bff1b790fcdfa5016c20a07a145631da3fe3cfa</td>\n",
       "      <td>ultraBullet</td>\n",
       "    </tr>\n",
       "    <tr>\n",
       "      <th>1</th>\n",
       "      <td>f915e10481634c0a44492699b2b8a3657c334106</td>\n",
       "      <td>correspondence</td>\n",
       "    </tr>\n",
       "    <tr>\n",
       "      <th>2</th>\n",
       "      <td>dc94ac81aa982e5382b814d4d883bfdb2ed62ddf</td>\n",
       "      <td>rapid</td>\n",
       "    </tr>\n",
       "    <tr>\n",
       "      <th>3</th>\n",
       "      <td>2fe14b9b993ea6eb953f8129c7a1edede9792b77</td>\n",
       "      <td>daily</td>\n",
       "    </tr>\n",
       "    <tr>\n",
       "      <th>4</th>\n",
       "      <td>4a19573b7e72b7249d2271839c762ffe1f0452f3</td>\n",
       "      <td>classical</td>\n",
       "    </tr>\n",
       "    <tr>\n",
       "      <th>5</th>\n",
       "      <td>472da2b94e9fa87badd16a55e1eaec4f53ffc52a</td>\n",
       "      <td>bullet</td>\n",
       "    </tr>\n",
       "    <tr>\n",
       "      <th>6</th>\n",
       "      <td>6d199aca996a9a8bff542e2bc10e3f0edc62cd07</td>\n",
       "      <td>blitz</td>\n",
       "    </tr>\n",
       "  </tbody>\n",
       "</table>\n",
       "</div>"
      ],
      "text/plain": [
       "                              time_class_id      time_class\n",
       "0  7bff1b790fcdfa5016c20a07a145631da3fe3cfa     ultraBullet\n",
       "1  f915e10481634c0a44492699b2b8a3657c334106  correspondence\n",
       "2  dc94ac81aa982e5382b814d4d883bfdb2ed62ddf           rapid\n",
       "3  2fe14b9b993ea6eb953f8129c7a1edede9792b77           daily\n",
       "4  4a19573b7e72b7249d2271839c762ffe1f0452f3       classical\n",
       "5  472da2b94e9fa87badd16a55e1eaec4f53ffc52a          bullet\n",
       "6  6d199aca996a9a8bff542e2bc10e3f0edc62cd07           blitz"
      ]
     },
     "execution_count": 122,
     "metadata": {},
     "output_type": "execute_result"
    }
   ],
   "source": [
    "#time_class_table.limit(10).toPandas()"
   ]
  },
  {
   "cell_type": "code",
   "execution_count": null,
   "id": "premier-algorithm",
   "metadata": {
    "scrolled": false
   },
   "outputs": [],
   "source": [
    "time_class_table.write.mode('append').parquet(\"s3a://\" + output_data + \"/dim/time_class\")"
   ]
  },
  {
   "cell_type": "markdown",
   "id": "outer-trading",
   "metadata": {},
   "source": [
    "### Create and Write Cleaned `platform` Dim Table"
   ]
  },
  {
   "cell_type": "code",
   "execution_count": null,
   "id": "usual-bride",
   "metadata": {
    "scrolled": false
   },
   "outputs": [],
   "source": [
    "platform_table = df_dupes_dropped.select((F.col(\"platform_id\").alias(\"id\"),\"platform\").distinct()\n"
   ]
  },
  {
   "cell_type": "code",
   "execution_count": null,
   "id": "particular-burton",
   "metadata": {
    "scrolled": false
   },
   "outputs": [],
   "source": [
    "#platform_table.limit(10).toPandas()"
   ]
  },
  {
   "cell_type": "code",
   "execution_count": null,
   "id": "institutional-swaziland",
   "metadata": {
    "scrolled": false
   },
   "outputs": [],
   "source": [
    "platform_table.write.mode('append').parquet(\"s3a://\" + output_data + \"/dim/platform\")"
   ]
  },
  {
   "cell_type": "markdown",
   "id": "registered-james",
   "metadata": {},
   "source": [
    "## Run Data Quality Checks on the `games` Fact Table"
   ]
  },
  {
   "cell_type": "markdown",
   "id": "explicit-natural",
   "metadata": {},
   "source": [
    "### Check for nulls in the `game_id` column"
   ]
  },
  {
   "cell_type": "code",
   "execution_count": 46,
   "id": "crazy-water",
   "metadata": {
    "scrolled": false
   },
   "outputs": [],
   "source": [
    "df_final_games_table = df_dupes_dropped.select(\"game_id\",\"year\",\"game_end_time\",\"game_end_date\", \"time_class_id\", \"white_id\", \"white_rating\",\"black_id\",\"black_rating\",\"winner\",\"termination\",\"opening_id\",\"moves\",\"platform_id\")"
   ]
  },
  {
   "cell_type": "code",
   "execution_count": 47,
   "id": "creative-harrison",
   "metadata": {
    "scrolled": false
   },
   "outputs": [],
   "source": [
    "final_games_table_nulls = df_final_games_table.where(F.col(\"game_id\").isNull())"
   ]
  },
  {
   "cell_type": "code",
   "execution_count": 53,
   "id": "roman-brighton",
   "metadata": {
    "scrolled": false
   },
   "outputs": [],
   "source": [
    "final_games_table_nulls_pd = final_games_table_nulls.toPandas()"
   ]
  },
  {
   "cell_type": "code",
   "execution_count": 66,
   "id": "metropolitan-decimal",
   "metadata": {
    "scrolled": false
   },
   "outputs": [
    {
     "name": "stdout",
     "output_type": "stream",
     "text": [
      "  game_id  year       game_end_time game_end_date  \\\n",
      "0    None  2020 2020-07-20 02:23:50    2020-07-20   \n",
      "\n",
      "                              time_class_id  \\\n",
      "0  7bff1b790fcdfa5016c20a07a145631da3fe3cfa   \n",
      "\n",
      "                                   white_id  white_rating black_id  \\\n",
      "0  29cd8be4cbb4f1cc0a5a999f56052f8189458e55          2367     None   \n",
      "\n",
      "   black_rating winner termination                                opening_id  \\\n",
      "0           NaN  black   outoftime  e708ca8d764a90c6eb30072b0587b103b188fde3   \n",
      "\n",
      "                                               moves  \\\n",
      "0  Nf3 d6 e3 Nh6 Nc3 Bd7 d3 Nc6 Be2 e6 O-O d5 d4 ...   \n",
      "\n",
      "                                platform_id  \n",
      "0  e14d455ef2680fa21e1299985922a77b8cd28eaf  \n"
     ]
    },
    {
     "ename": "AssertionError",
     "evalue": "Null values were found in the `game_id` column.",
     "output_type": "error",
     "traceback": [
      "\u001b[0;31m---------------------------------------------------------------------------\u001b[0m",
      "\u001b[0;31mAssertionError\u001b[0m                            Traceback (most recent call last)",
      "\u001b[0;32m<ipython-input-66-9ab686b57ee4>\u001b[0m in \u001b[0;36m<module>\u001b[0;34m\u001b[0m\n\u001b[1;32m      3\u001b[0m \u001b[0;32melse\u001b[0m\u001b[0;34m:\u001b[0m\u001b[0;34m\u001b[0m\u001b[0;34m\u001b[0m\u001b[0m\n\u001b[1;32m      4\u001b[0m     \u001b[0mprint\u001b[0m\u001b[0;34m(\u001b[0m\u001b[0mfinal_games_table_nulls_pd\u001b[0m\u001b[0;34m)\u001b[0m\u001b[0;34m\u001b[0m\u001b[0;34m\u001b[0m\u001b[0m\n\u001b[0;32m----> 5\u001b[0;31m     \u001b[0;32mraise\u001b[0m \u001b[0mAssertionError\u001b[0m\u001b[0;34m(\u001b[0m\u001b[0;34m\"Null values were found in the `game_id` column.\"\u001b[0m\u001b[0;34m)\u001b[0m\u001b[0;34m\u001b[0m\u001b[0;34m\u001b[0m\u001b[0m\n\u001b[0m",
      "\u001b[0;31mAssertionError\u001b[0m: Null values were found in the `game_id` column."
     ]
    }
   ],
   "source": [
    "if final_games_table_nulls_pd.empty:\n",
    "    print(\"Test Passed: No Null Values Found\")\n",
    "else:\n",
    "    print(final_games_table_nulls_pd)\n",
    "    raise AssertionError(\"Null values were found in the `game_id` column.\")"
   ]
  },
  {
   "cell_type": "markdown",
   "id": "optimum-connectivity",
   "metadata": {},
   "source": [
    "### Check that all values in the `game_id` column are distinct (no dupes)"
   ]
  },
  {
   "cell_type": "code",
   "execution_count": 64,
   "id": "inside-alexander",
   "metadata": {
    "scrolled": false
   },
   "outputs": [],
   "source": [
    "final_games_table_dupes = df_final_games_table.select(F.countDistinct(\"game_id\"))"
   ]
  },
  {
   "cell_type": "code",
   "execution_count": 65,
   "id": "short-simpson",
   "metadata": {
    "scrolled": false
   },
   "outputs": [],
   "source": [
    "final_games_table_dupes_pd = final_games_table_dupes.toPandas()"
   ]
  },
  {
   "cell_type": "code",
   "execution_count": 75,
   "id": "taken-fruit",
   "metadata": {
    "scrolled": false
   },
   "outputs": [],
   "source": [
    "game_id_distinct = final_games_table_dupes_pd.set_axis([\"game_id_distinct\"],axis=1)"
   ]
  },
  {
   "cell_type": "code",
   "execution_count": 101,
   "id": "corrected-terror",
   "metadata": {
    "scrolled": false
   },
   "outputs": [
    {
     "ename": "AssertionError",
     "evalue": "Current distinct values in the `game_id` column do not match the df_dupes_dropped_count` that we recorded earlier.",
     "output_type": "error",
     "traceback": [
      "\u001b[0;31m---------------------------------------------------------------------------\u001b[0m",
      "\u001b[0;31mAssertionError\u001b[0m                            Traceback (most recent call last)",
      "\u001b[0;32m<ipython-input-101-daccc31c0a9e>\u001b[0m in \u001b[0;36m<module>\u001b[0;34m\u001b[0m\n\u001b[1;32m     10\u001b[0m     \u001b[0mprint\u001b[0m\u001b[0;34m(\u001b[0m\u001b[0;34m\"Test Passed: No Duplicate Values Found\"\u001b[0m\u001b[0;34m)\u001b[0m\u001b[0;34m\u001b[0m\u001b[0;34m\u001b[0m\u001b[0m\n\u001b[1;32m     11\u001b[0m \u001b[0;32melse\u001b[0m\u001b[0;34m:\u001b[0m\u001b[0;34m\u001b[0m\u001b[0;34m\u001b[0m\u001b[0m\n\u001b[0;32m---> 12\u001b[0;31m     \u001b[0;32mraise\u001b[0m \u001b[0mAssertionError\u001b[0m\u001b[0;34m(\u001b[0m\u001b[0;34m\"Current distinct values in the `game_id` column do not match the df_dupes_dropped_count` that we recorded earlier.\"\u001b[0m\u001b[0;34m)\u001b[0m\u001b[0;34m\u001b[0m\u001b[0;34m\u001b[0m\u001b[0m\n\u001b[0m",
      "\u001b[0;31mAssertionError\u001b[0m: Current distinct values in the `game_id` column do not match the df_dupes_dropped_count` that we recorded earlier."
     ]
    }
   ],
   "source": [
    "# We set `df_dupes_dropped_count` above, when  we merge the Chess.com and  Lichess datasets together \n",
    "# and then drop the dupes via:\n",
    "#\n",
    "# > df_dupes_dropped = df_merged_with_year.dropDuplicates(['game_id'])\n",
    "#\n",
    "# In this data quality check we see whether the number of distinct fields in the `game_id` column\n",
    "# is less than this variable. If so, it may indicate that there other issues with the data in this column.\n",
    "\n",
    "if df_dupes_dropped_count - game_id_distinct.values[0] == 0: \n",
    "    print(\"Test Passed: No Duplicate Values Found\")\n",
    "else:\n",
    "    raise AssertionError(\"Current distinct value count in the `game_id` column does not match the df_dupes_dropped_count` that we recorded earlier.\")"
   ]
  },
  {
   "cell_type": "markdown",
   "id": "heavy-worcester",
   "metadata": {},
   "source": [
    "## Write Cleaned and Data Quality-checked `games` Fact Table"
   ]
  },
  {
   "cell_type": "markdown",
   "id": "differential-pasta",
   "metadata": {},
   "source": [
    "**Warning: depending on your system / Spark cluster resources, this write can take a while!**"
   ]
  },
  {
   "cell_type": "code",
   "execution_count": null,
   "id": "resident-constitutional",
   "metadata": {
    "scrolled": false
   },
   "outputs": [],
   "source": [
    "df_final_games_table.write.mode('append').partitionBy(\"year\",\"time_class_id\").parquet(\"s3a://\" + output_data + \"/fact/game\")"
   ]
  },
  {
   "cell_type": "code",
   "execution_count": null,
   "id": "sudden-virgin",
   "metadata": {
    "scrolled": false
   },
   "outputs": [],
   "source": []
  }
 ],
 "metadata": {
  "kernelspec": {
   "display_name": "Python 3",
   "language": "python",
   "name": "python3"
  },
  "language_info": {
   "codemirror_mode": {
    "name": "ipython",
    "version": 3
   },
   "file_extension": ".py",
   "mimetype": "text/x-python",
   "name": "python",
   "nbconvert_exporter": "python",
   "pygments_lexer": "ipython3",
   "version": "3.8.5"
  }
 },
 "nbformat": 4,
 "nbformat_minor": 5
}
